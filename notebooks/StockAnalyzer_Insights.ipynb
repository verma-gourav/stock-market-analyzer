{
 "cells": [
  {
   "cell_type": "markdown",
   "id": "d0410b9e",
   "metadata": {},
   "source": [
    "\n",
    "# 📊 Stock Market Pattern Analyzer\n",
    "\n",
    "This notebook explores bulk deal patterns, suspicious trades, and price impacts using data from NSE India. It includes visualizations and anomaly detection of clients' trade activities.\n"
   ]
  },
  {
   "cell_type": "markdown",
   "id": "216dc158",
   "metadata": {},
   "source": [
    "## 📥 Load Required Libraries and Datasets"
   ]
  },
  {
   "cell_type": "code",
   "execution_count": null,
   "id": "fe3ae998",
   "metadata": {},
   "outputs": [],
   "source": [
    "\n",
    "import pandas as pd\n",
    "import matplotlib.pyplot as plt\n",
    "import seaborn as sns\n",
    "\n",
    "# Load data\n",
    "bulk = pd.read_csv(\"data/bulk_deals.csv\")\n",
    "price = pd.read_csv(\"data/price_data.csv\")\n",
    "anomalies = pd.read_csv(\"data/anomalies_price_jump.csv\")\n"
   ]
  },
  {
   "cell_type": "markdown",
   "id": "9416a22a",
   "metadata": {},
   "source": [
    "## 🧩 Top Clients by Quantity Bought"
   ]
  },
  {
   "cell_type": "code",
   "execution_count": null,
   "id": "687b0df4",
   "metadata": {},
   "outputs": [],
   "source": [
    "\n",
    "top_buyers = bulk[bulk[\"deal_type\"] == \"BUY\"].groupby(\"client_name\")[\"quantity\"].sum().sort_values(ascending=False).head(10)\n",
    "top_buyers.plot(kind=\"barh\", figsize=(10, 5), color=\"steelblue\", title=\"Top 10 Buyers by Quantity\")\n",
    "plt.gca().invert_yaxis()\n",
    "plt.xlabel(\"Total Quantity Bought\")\n",
    "plt.tight_layout()\n",
    "plt.show()\n"
   ]
  },
  {
   "cell_type": "markdown",
   "id": "c1b6b3c0",
   "metadata": {},
   "source": [
    "## 📦 Top Traded Stocks by Total Volume"
   ]
  },
  {
   "cell_type": "code",
   "execution_count": null,
   "id": "02c53961",
   "metadata": {},
   "outputs": [],
   "source": [
    "\n",
    "top_stocks = bulk.groupby(\"symbol\")[\"quantity\"].sum().sort_values(ascending=False).head(10)\n",
    "top_stocks.plot(kind=\"bar\", figsize=(10, 5), color=\"orange\", title=\"Top 10 Traded Stocks by Volume\")\n",
    "plt.ylabel(\"Total Quantity\")\n",
    "plt.xticks(rotation=45)\n",
    "plt.tight_layout()\n",
    "plt.show()\n"
   ]
  },
  {
   "cell_type": "markdown",
   "id": "4a879639",
   "metadata": {},
   "source": [
    "## 🥧 Deal Type Distribution"
   ]
  },
  {
   "cell_type": "code",
   "execution_count": null,
   "id": "156373af",
   "metadata": {},
   "outputs": [],
   "source": [
    "\n",
    "deal_type_counts = bulk[\"deal_type\"].value_counts()\n",
    "deal_type_counts.plot.pie(autopct=\"%1.1f%%\", colors=[\"green\", \"red\"], startangle=90)\n",
    "plt.ylabel(\"\")\n",
    "plt.title(\"Buy vs Sell Deal Distribution\")\n",
    "plt.tight_layout()\n",
    "plt.show()\n"
   ]
  },
  {
   "cell_type": "markdown",
   "id": "b9536817",
   "metadata": {},
   "source": [
    "## 🚨 Price Jump Anomalies (Flagged Trades)"
   ]
  },
  {
   "cell_type": "code",
   "execution_count": null,
   "id": "2d00e0aa",
   "metadata": {},
   "outputs": [],
   "source": [
    "\n",
    "anomalies_flagged = anomalies[anomalies[\"flagged\"] == True]\n",
    "anomalies_flagged.head(10)\n"
   ]
  },
  {
   "cell_type": "markdown",
   "id": "86dc0762",
   "metadata": {},
   "source": [
    "## 📈 Top 10 Anomalous Trades by Price Jump"
   ]
  },
  {
   "cell_type": "code",
   "execution_count": null,
   "id": "032492f8",
   "metadata": {},
   "outputs": [],
   "source": [
    "\n",
    "top_anomalies = anomalies_flagged.sort_values(\"pct_change\", ascending=False).drop_duplicates().head(10)\n",
    "top_anomalies.plot.barh(x=\"client_name\", y=\"pct_change\", figsize=(10, 6), color=\"crimson\")\n",
    "plt.xlabel(\"Percentage Price Change\")\n",
    "plt.title(\"Top 10 Suspicious Bulk BUY Trades (Price Jump > 5%)\")\n",
    "plt.gca().invert_yaxis()\n",
    "plt.tight_layout()\n",
    "plt.show()\n"
   ]
  },
  {
   "cell_type": "markdown",
   "id": "6e580d86",
   "metadata": {},
   "source": [
    "## 🔥 Heatmap of Suspicious BUYs by Client & Stock"
   ]
  },
  {
   "cell_type": "code",
   "execution_count": null,
   "id": "26ce7093",
   "metadata": {},
   "outputs": [],
   "source": [
    "\n",
    "heatmap_data = anomalies_flagged.pivot_table(index=\"client_name\", columns=\"symbol\", aggfunc=\"size\", fill_value=0)\n",
    "plt.figure(figsize=(12, 6))\n",
    "sns.heatmap(heatmap_data, annot=True, fmt=\"d\", cmap=\"Reds\")\n",
    "plt.title(\"🔥 Frequency of Suspicious BUYs by Client & Stock\")\n",
    "plt.xlabel(\"Stock\")\n",
    "plt.ylabel(\"Client\")\n",
    "plt.tight_layout()\n",
    "plt.show()\n"
   ]
  },
  {
   "cell_type": "markdown",
   "id": "e17d2a08",
   "metadata": {},
   "source": [
    "## 🧠 Insights"
   ]
  },
  {
   "cell_type": "markdown",
   "id": "67e9d065",
   "metadata": {},
   "source": [
    "\n",
    "### 📌 Observations\n",
    "\n",
    "- Several clients made bulk BUY trades just before significant stock price increases.\n",
    "- The same clients appeared across different stocks repeatedly — which may indicate suspicious coordinated trading.\n",
    "- Heatmap visualizes clients consistently associated with anomalies.\n",
    "\n",
    "### 📘 Future Work\n",
    "\n",
    "- Add same-day BUY/SELL pattern analysis.\n",
    "- Improve anomaly detection with statistical models.\n",
    "- Integrate CLI and API endpoints.\n",
    "\n",
    "---\n",
    "\n",
    "_This project demonstrates pattern recognition in equity markets using public data. Ideal for fraud detection, portfolio analysis, or trading strategy development._\n"
   ]
  }
 ],
 "metadata": {},
 "nbformat": 4,
 "nbformat_minor": 5
}